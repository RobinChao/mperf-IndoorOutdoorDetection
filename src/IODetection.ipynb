{
 "cells": [
  {
   "cell_type": "code",
   "execution_count": 26,
   "metadata": {},
   "outputs": [
    {
     "name": "stdout",
     "output_type": "stream",
     "text": [
      "The autoreload extension is already loaded. To reload it, use:\n",
      "  %reload_ext autoreload\n"
     ]
    }
   ],
   "source": [
    "%load_ext autoreload\n",
    "%autoreload 2\n",
    "import data_loader\n",
    "\n",
    "from feature_extraction import extract_features, data_in_tw\n",
    "#from datetime import datetime, timedelta\n",
    "import pandas as pd\n",
    "import pytz\n",
    "import pickle\n",
    "\n",
    "from sklearn import svm\n",
    "from sklearn.feature_extraction import DictVectorizer\n",
    "from sklearn.preprocessing import LabelEncoder, MinMaxScaler\n",
    "from sklearn.model_selection import KFold\n",
    "from sklearn.metrics import confusion_matrix\n",
    "\n",
    "from sklearn.model_selection import train_test_split\n",
    "from sklearn.metrics import accuracy_score, f1_score"
   ]
  },
  {
   "cell_type": "code",
   "execution_count": 12,
   "metadata": {
    "collapsed": true
   },
   "outputs": [],
   "source": [
    "# Size of time window in unit of second.\n",
    "TIME_WINDOW_SEC = 30\n",
    "features = []\n",
    "labels = []"
   ]
  },
  {
   "cell_type": "code",
   "execution_count": 7,
   "metadata": {},
   "outputs": [],
   "source": [
    "dl = data_loader.DataLoader()\n",
    "\n",
    "# Load Groudtruth\n",
    "df_labels = dl.load_groundtruth()\n",
    "\n",
    "\n",
    "# Load low frequency data\n",
    "df_location = dl.load_low_freq_data('LOCATION')\n",
    "df_activity = dl.load_low_freq_data('ACTIVITY_TYPE')"
   ]
  },
  {
   "cell_type": "code",
   "execution_count": 13,
   "metadata": {},
   "outputs": [],
   "source": [
    "visited = set()\n",
    "for index, row in df_labels.iterrows():\n",
    "    d = row['Start Timestamp'].date()\n",
    "    if d not in visited:\n",
    "        # load high frequency data\n",
    "        df_battery = dl.load_high_freq_data('BATTERY', d)\n",
    "        df_compass = dl.load_high_freq_data('COMPASS', d)\n",
    "        visited.add(d)\n",
    "\n",
    "    start = row['Start Timestamp'] # + timedelta(seconds=120)\n",
    "    end = row['End Timestamp'] # - timedelta(seconds=120)\n",
    "\n",
    "    if start >= end:\n",
    "        continue\n",
    "\n",
    "    # Obtain data needed for one label(one event)\n",
    "    streams = {}\n",
    "    streams['Battery'] = data_in_tw(df_battery, start, end)\n",
    "    streams['Compass'] = data_in_tw(df_compass, start, end)\n",
    "    streams['Activity'] = data_in_tw(df_activity, start, end)\n",
    "    streams['Location'] = data_in_tw(df_location, start, end)\n",
    "\n",
    "    # Segment data streams into time windows, extract features and append features\n",
    "    tmp = extract_features(streams, start, end, TIME_WINDOW_SEC)\n",
    "    features = features + tmp\n",
    "    \n",
    "    # Extract labels and append labels\n",
    "    labels = labels + [row['Labels']] * len(tmp)"
   ]
  },
  {
   "cell_type": "code",
   "execution_count": 19,
   "metadata": {},
   "outputs": [
    {
     "name": "stdout",
     "output_type": "stream",
     "text": [
      "26054\n",
      "26054\n"
     ]
    }
   ],
   "source": [
    "print(len(features))\n",
    "print(len(labels))"
   ]
  },
  {
   "cell_type": "code",
   "execution_count": 30,
   "metadata": {},
   "outputs": [],
   "source": [
    "# Data preprocessing\n",
    "\n",
    "# Convert features and labels to pandas dataframe format\n",
    "df_features = pd.DataFrame(features)\n",
    "df_features['Labels'] = pd.DataFrame(labels)\n",
    "\n",
    "# df_features.to_csv('zhengxux_features_labels.csv')\n",
    "\n",
    "df_features['Battery Charging'].interpolate(method='nearest', inplace=True)\n",
    "df_features['Max GPS Accuracy'].fillna(500, inplace=True)\n",
    "df_features = df_features.dropna(axis=0)\n",
    "df_labels = df_features['Labels']\n",
    "df_features.drop('Labels', axis=1, inplace=True)\n",
    "\n",
    "# train_features is numpy array\n",
    "vec = DictVectorizer()\n",
    "train_features = vec.fit_transform(df_features.to_dict('records')).toarray()\n",
    "\n",
    "# Normalize columns of features with min-max scaler\n",
    "scaler = MinMaxScaler(copy=False)\n",
    "train_features = scaler.fit_transform(train_features)\n",
    "\n",
    "# Encode all features\n",
    "le = LabelEncoder()\n",
    "le.fit(['Incar', 'Indoor', 'Outdoor'])\n",
    "train_labels = le.transform(df_labels)"
   ]
  },
  {
   "cell_type": "code",
   "execution_count": 25,
   "metadata": {},
   "outputs": [
    {
     "name": "stdout",
     "output_type": "stream",
     "text": [
      "[[  48   58    4]\n",
      " [   2 4016   73]\n",
      " [   0  109  113]]\n",
      "0.94438164142\n",
      "0.94438164142\n",
      "0.706431813933\n",
      "0.940339615287\n"
     ]
    }
   ],
   "source": [
    "X_train, X_test, y_train, y_test = train_test_split(train_features, train_labels, test_size=0.20, random_state=42)\n",
    "clf = svm.SVC()\n",
    "clf.fit(X_train, y_train)\n",
    "predicted_y = clf.predict(X_test)\n",
    "confusionmatrix = confusion_matrix(y_test, predicted_y)\n",
    "print(confusionmatrix)\n",
    "print(accuracy_score(y_test, predicted_y, normalize=True))\n",
    "print(f1_score(y_test, predicted_y, average='micro'))\n",
    "print(f1_score(y_test, predicted_y, average='macro'))\n",
    "print(f1_score(y_test, predicted_y, average='weighted'))"
   ]
  },
  {
   "cell_type": "code",
   "execution_count": 29,
   "metadata": {},
   "outputs": [],
   "source": [
    "# save the model to disk\n",
    "filename = 'zhengxuxia_model.clf'\n",
    "pickle.dump(clf, open(filename, 'wb'))"
   ]
  },
  {
   "cell_type": "code",
   "execution_count": null,
   "metadata": {
    "collapsed": true
   },
   "outputs": [],
   "source": []
  }
 ],
 "metadata": {
  "kernelspec": {
   "display_name": "Python 3",
   "language": "python",
   "name": "python3"
  },
  "language_info": {
   "codemirror_mode": {
    "name": "ipython",
    "version": 3
   },
   "file_extension": ".py",
   "mimetype": "text/x-python",
   "name": "python",
   "nbconvert_exporter": "python",
   "pygments_lexer": "ipython3",
   "version": "3.6.3"
  }
 },
 "nbformat": 4,
 "nbformat_minor": 2
}
